{
  "nbformat": 4,
  "nbformat_minor": 0,
  "metadata": {
    "colab": {
      "name": "Untitled15.ipynb",
      "provenance": [],
      "collapsed_sections": [],
      "authorship_tag": "ABX9TyOGu814oYSRY0lLaKoiArhH",
      "include_colab_link": true
    },
    "kernelspec": {
      "name": "python3",
      "display_name": "Python 3"
    },
    "language_info": {
      "name": "python"
    },
    "accelerator": "GPU",
    "gpuClass": "standard"
  },
  "cells": [
    {
      "cell_type": "markdown",
      "metadata": {
        "id": "view-in-github",
        "colab_type": "text"
      },
      "source": [
        "<a href=\"https://colab.research.google.com/github/kimtaes/DeepLearningEx/blob/main/Untitled15.ipynb\" target=\"_parent\"><img src=\"https://colab.research.google.com/assets/colab-badge.svg\" alt=\"Open In Colab\"/></a>"
      ]
    },
    {
      "cell_type": "code",
      "execution_count": 1,
      "metadata": {
        "id": "77rXPx2pUsBg"
      },
      "outputs": [],
      "source": [
        "import numpy as np\n",
        "import tensorflow as tf"
      ]
    },
    {
      "cell_type": "code",
      "source": [
        "t0 = tf.constant(1) \n",
        "print(tf.rank(t0))\n",
        "print(t0)\n",
        "\n",
        "t1=tf.constant([1,2,3])\n",
        "print(t1)\n",
        "print(tf.rank(t1))"
      ],
      "metadata": {
        "colab": {
          "base_uri": "https://localhost:8080/"
        },
        "id": "gUXTYLZnU25O",
        "outputId": "dcd6ba49-061a-41a4-fd9f-bd83e7ec1fa6"
      },
      "execution_count": 6,
      "outputs": [
        {
          "output_type": "stream",
          "name": "stdout",
          "text": [
            "tf.Tensor(0, shape=(), dtype=int32)\n",
            "tf.Tensor(1, shape=(), dtype=int32)\n",
            "tf.Tensor([1 2 3], shape=(3,), dtype=int32)\n",
            "tf.Tensor(1, shape=(), dtype=int32)\n"
          ]
        }
      ]
    },
    {
      "cell_type": "code",
      "source": [
        "t2=tf.constant([[1,2,3],[4,5,6]])\n",
        "print(t2)\n",
        "print(tf.rank(t2))"
      ],
      "metadata": {
        "colab": {
          "base_uri": "https://localhost:8080/"
        },
        "id": "auEnll-aVbLK",
        "outputId": "05bfe6d6-67db-4379-ed29-6c80a22d37b2"
      },
      "execution_count": 10,
      "outputs": [
        {
          "output_type": "stream",
          "name": "stdout",
          "text": [
            "tf.Tensor(\n",
            "[[1 2 3]\n",
            " [4 5 6]], shape=(2, 3), dtype=int32)\n",
            "tf.Tensor(2, shape=(), dtype=int32)\n"
          ]
        }
      ]
    },
    {
      "cell_type": "code",
      "source": [
        "t3=tf.constant([[[1,2,3],\n",
        "              [4,5,6],\n",
        "              [7,8,9]],\n",
        "             [[1,2,3],\n",
        "              [4,5,6],\n",
        "              [7,8,9]],\n",
        "             [[1,2,3],\n",
        "              [4,5,6],\n",
        "              [7,8,9]]])\n",
        "print(t3)\n",
        "print(tf.rank(t3))"
      ],
      "metadata": {
        "colab": {
          "base_uri": "https://localhost:8080/"
        },
        "id": "wPqaOQ0SVzZQ",
        "outputId": "5924ef37-4002-4001-f552-a1e8a1043207"
      },
      "execution_count": 12,
      "outputs": [
        {
          "output_type": "stream",
          "name": "stdout",
          "text": [
            "tf.Tensor(\n",
            "[[[1 2 3]\n",
            "  [4 5 6]\n",
            "  [7 8 9]]\n",
            "\n",
            " [[1 2 3]\n",
            "  [4 5 6]\n",
            "  [7 8 9]]\n",
            "\n",
            " [[1 2 3]\n",
            "  [4 5 6]\n",
            "  [7 8 9]]], shape=(3, 3, 3), dtype=int32)\n",
            "tf.Tensor(3, shape=(), dtype=int32)\n"
          ]
        }
      ]
    },
    {
      "cell_type": "code",
      "source": [
        "t4 = tf.constant([[[[1,2,3],\n",
        "                    [4,5,6],\n",
        "                    [7,8,9]],\n",
        "                   [[1,2,3],\n",
        "                    [4,5,6],\n",
        "                    [7,8,9]]],\n",
        "                  [[[1,2,3],\n",
        "                    [4,5,6],\n",
        "                    [7,8,9]],\n",
        "                   [[1,2,3],\n",
        "                    [4,5,6],\n",
        "                    [7,8,9]]],\n",
        "                  [[[1,2,3],\n",
        "                    [4,5,6],\n",
        "                    [7,8,9]],\n",
        "                   [[1,2,3],\n",
        "                    [4,5,6],\n",
        "                    [7,8,9]]]\n",
        "                  ])\n",
        "print(t4)\n",
        "print(tf.rank(t4))"
      ],
      "metadata": {
        "colab": {
          "base_uri": "https://localhost:8080/"
        },
        "id": "lSJzRH4oWYb4",
        "outputId": "3af56c37-9634-4b8b-bcb4-842945e15ddf"
      },
      "execution_count": 17,
      "outputs": [
        {
          "output_type": "stream",
          "name": "stdout",
          "text": [
            "tf.Tensor(\n",
            "[[[[1 2 3]\n",
            "   [4 5 6]\n",
            "   [7 8 9]]\n",
            "\n",
            "  [[1 2 3]\n",
            "   [4 5 6]\n",
            "   [7 8 9]]]\n",
            "\n",
            "\n",
            " [[[1 2 3]\n",
            "   [4 5 6]\n",
            "   [7 8 9]]\n",
            "\n",
            "  [[1 2 3]\n",
            "   [4 5 6]\n",
            "   [7 8 9]]]\n",
            "\n",
            "\n",
            " [[[1 2 3]\n",
            "   [4 5 6]\n",
            "   [7 8 9]]\n",
            "\n",
            "  [[1 2 3]\n",
            "   [4 5 6]\n",
            "   [7 8 9]]]], shape=(3, 2, 3, 3), dtype=int32)\n",
            "tf.Tensor(4, shape=(), dtype=int32)\n"
          ]
        }
      ]
    },
    {
      "cell_type": "code",
      "source": [
        "#Data type(dtype) can be transformed via tf.cast()\n",
        "\n",
        "i = tf.constant(2)\n",
        "\n",
        "print(i)\n",
        "\n",
        "f = tf.constant(2.)\n",
        "print(f)\n",
        "\n",
        "s = tf.constant('T')\n",
        "print(s)\n",
        "\n",
        "f16 = tf.constant(1., dtype = tf.float16)\n",
        "print(f16)"
      ],
      "metadata": {
        "colab": {
          "base_uri": "https://localhost:8080/"
        },
        "id": "F_lx0JwFXGpi",
        "outputId": "81590d98-11f0-4c8c-ae99-4b532433139c"
      },
      "execution_count": 23,
      "outputs": [
        {
          "output_type": "stream",
          "name": "stdout",
          "text": [
            "tf.Tensor(2, shape=(), dtype=int32)\n",
            "tf.Tensor(2.0, shape=(), dtype=float32)\n",
            "tf.Tensor(b'T', shape=(), dtype=string)\n",
            "tf.Tensor(1.0, shape=(), dtype=float16)\n"
          ]
        }
      ]
    },
    {
      "cell_type": "code",
      "source": [
        "print(tf.add(tf.constant(2),tf.constant(2)))\n",
        "print(tf.subtract(tf.constant(4),tf.constant(2)))\n",
        "\n",
        "#Tensorflow does not automatically adjust two different type of data. That is the data should be manually transformed via tf.cast() method\n",
        "print(tf.cast(tf.constant(2), tf.float32) + tf.constant(2.2))"
      ],
      "metadata": {
        "colab": {
          "base_uri": "https://localhost:8080/"
        },
        "id": "rD7iooMiX34i",
        "outputId": "39d3c1a6-7d79-404f-9c40-ab4959c12d52"
      },
      "execution_count": 30,
      "outputs": [
        {
          "output_type": "stream",
          "name": "stdout",
          "text": [
            "tf.Tensor(4, shape=(), dtype=int32)\n",
            "tf.Tensor(2, shape=(), dtype=int32)\n",
            "tf.Tensor(4.2, shape=(), dtype=float32)\n"
          ]
        }
      ]
    },
    {
      "cell_type": "code",
      "source": [
        "###LAYERS###\n",
        "\n",
        "from tensorflow.keras.layers import Dense, Activation, Flatten, Input"
      ],
      "metadata": {
        "id": "-pXnfP_aZQF6"
      },
      "execution_count": 33,
      "outputs": []
    },
    {
      "cell_type": "code",
      "source": [
        "Dense(10, activation=\"softmax\")"
      ],
      "metadata": {
        "colab": {
          "base_uri": "https://localhost:8080/"
        },
        "id": "B6l4kAqpZ3zF",
        "outputId": "de17b6b8-dae2-4356-bd4e-559fe9f4172c"
      },
      "execution_count": 35,
      "outputs": [
        {
          "output_type": "execute_result",
          "data": {
            "text/plain": [
              "<keras.layers.core.dense.Dense at 0x7f415a5fc710>"
            ]
          },
          "metadata": {},
          "execution_count": 35
        }
      ]
    },
    {
      "cell_type": "code",
      "source": [
        "Dense(10, activation = \"relu\", name = \"Dense Layer\")"
      ],
      "metadata": {
        "colab": {
          "base_uri": "https://localhost:8080/"
        },
        "id": "eJ6UGAD7Z8hC",
        "outputId": "e3bd44a5-6431-48c8-d9e4-66b2aa6357ee"
      },
      "execution_count": 37,
      "outputs": [
        {
          "output_type": "execute_result",
          "data": {
            "text/plain": [
              "<keras.layers.core.dense.Dense at 0x7f415a397d90>"
            ]
          },
          "metadata": {},
          "execution_count": 37
        }
      ]
    },
    {
      "cell_type": "code",
      "source": [
        "Dense(10, kernel_initializer = \"he_normal\", name = \"Dense Layer\")"
      ],
      "metadata": {
        "colab": {
          "base_uri": "https://localhost:8080/"
        },
        "id": "K5RLCFdwaCgX",
        "outputId": "dd4efda3-fe5c-4226-f820-335c9aba0fbd"
      },
      "execution_count": 39,
      "outputs": [
        {
          "output_type": "execute_result",
          "data": {
            "text/plain": [
              "<keras.layers.core.dense.Dense at 0x7f415a49e3d0>"
            ]
          },
          "metadata": {},
          "execution_count": 39
        }
      ]
    },
    {
      "cell_type": "code",
      "source": [
        "dense = Dense(10, activation = \"relu\")\n",
        "Activation(dense)"
      ],
      "metadata": {
        "colab": {
          "base_uri": "https://localhost:8080/"
        },
        "id": "pJ92hu2waMKg",
        "outputId": "a2b8a853-8847-4bbe-96e9-4fd5b7bce2e0"
      },
      "execution_count": 41,
      "outputs": [
        {
          "output_type": "execute_result",
          "data": {
            "text/plain": [
              "<keras.layers.core.activation.Activation at 0x7f415a457950>"
            ]
          },
          "metadata": {},
          "execution_count": 41
        }
      ]
    },
    {
      "cell_type": "code",
      "source": [
        "Input(shape=(28,28), dtype=tf.float16)"
      ],
      "metadata": {
        "colab": {
          "base_uri": "https://localhost:8080/"
        },
        "id": "bB8nQ0q9au6h",
        "outputId": "de361b7a-426c-4447-ba96-c19144863b0b"
      },
      "execution_count": 43,
      "outputs": [
        {
          "output_type": "execute_result",
          "data": {
            "text/plain": [
              "<KerasTensor: shape=(None, 28, 28) dtype=float16 (created by layer 'input_2')>"
            ]
          },
          "metadata": {},
          "execution_count": 43
        }
      ]
    },
    {
      "cell_type": "code",
      "source": [
        "from tensorflow.keras.models import Sequential, Model\n",
        "from tensorflow.keras.utils import plot_model\n",
        "\n",
        "model = Sequential()\n",
        "model.add(Input(shape=(28,28)))\n",
        "model.add(Dense(300,activation='relu'))\n",
        "model.add(Dense(100,activation='relu'))\n",
        "model.add(Dense(10,activation='softmax'))\n",
        "\n",
        "model.summary()\n",
        " \n"
      ],
      "metadata": {
        "colab": {
          "base_uri": "https://localhost:8080/"
        },
        "id": "qQwQIzWua1by",
        "outputId": "5a2b2e6f-2218-4598-cb86-42119ad85066"
      },
      "execution_count": 46,
      "outputs": [
        {
          "output_type": "stream",
          "name": "stdout",
          "text": [
            "Model: \"sequential_2\"\n",
            "_________________________________________________________________\n",
            " Layer (type)                Output Shape              Param #   \n",
            "=================================================================\n",
            " dense_7 (Dense)             (None, 28, 300)           8700      \n",
            "                                                                 \n",
            " dense_8 (Dense)             (None, 28, 100)           30100     \n",
            "                                                                 \n",
            " dense_9 (Dense)             (None, 28, 10)            1010      \n",
            "                                                                 \n",
            "=================================================================\n",
            "Total params: 39,810\n",
            "Trainable params: 39,810\n",
            "Non-trainable params: 0\n",
            "_________________________________________________________________\n"
          ]
        }
      ]
    },
    {
      "cell_type": "code",
      "source": [
        "plot_model(model)"
      ],
      "metadata": {
        "colab": {
          "base_uri": "https://localhost:8080/",
          "height": 369
        },
        "id": "8H22tQnVb9xt",
        "outputId": "0e82c53d-9d1a-4f6a-8c99-ef2f484284e8"
      },
      "execution_count": 48,
      "outputs": [
        {
          "output_type": "execute_result",
          "data": {
            "text/plain": [
              "<IPython.core.display.Image object>"
            ],
            "image/png": "[encoded data removed]"
          },
          "metadata": {},
          "execution_count": 48
        }
      ]
    },
    {
      "cell_type": "code",
      "source": [
        "model = Sequential([Input(shape=(28,28), name = 'Input'),\n",
        "                    Dense(300,activation='relu', name = \"Dense1\"),\n",
        "                    Dense(100,activation='relu', name = \"Dense2\"),\n",
        "                    Dense(10,activation='softmax', name  = \"Output\")])\n",
        "model.summary()\n",
        "plot_model(model)"
      ],
      "metadata": {
        "colab": {
          "base_uri": "https://localhost:8080/",
          "height": 629
        },
        "id": "FZwX9EpRcGhw",
        "outputId": "cd77e99e-4457-4d21-f51b-be50ca15c8cd"
      },
      "execution_count": 52,
      "outputs": [
        {
          "output_type": "stream",
          "name": "stdout",
          "text": [
            "Model: \"sequential_6\"\n",
            "_________________________________________________________________\n",
            " Layer (type)                Output Shape              Param #   \n",
            "=================================================================\n",
            " Dense1 (Dense)              (None, 28, 300)           8700      \n",
            "                                                                 \n",
            " Dense2 (Dense)              (None, 28, 100)           30100     \n",
            "                                                                 \n",
            " Output (Dense)              (None, 28, 10)            1010      \n",
            "                                                                 \n",
            "=================================================================\n",
            "Total params: 39,810\n",
            "Trainable params: 39,810\n",
            "Non-trainable params: 0\n",
            "_________________________________________________________________\n"
          ]
        },
        {
          "output_type": "execute_result",
          "data": {
            "text/plain": [
              "<IPython.core.display.Image object>"
            ],
            "image/png": "[encoded data removed]"
          },
          "metadata": {},
          "execution_count": 52
        }
      ]
    },
    {
      "cell_type": "code",
      "source": [
        "inputs = Input(shape=(28,28))\n",
        "x = Flatten(input_shape = (28,28,1))(inputs)\n",
        "x = Dense(300, activation='relu')(x)\n",
        "x = Dense(100, activation='relu')(x)\n",
        "x = Dense(10, activation='softmax')(x)\n",
        "\n",
        "model = Model(inputs = inputs,  outputs = x)\n",
        "model.summary()"
      ],
      "metadata": {
        "colab": {
          "base_uri": "https://localhost:8080/"
        },
        "id": "2Wc6qbbQcxKy",
        "outputId": "2532cdc7-056b-46da-dee8-e53c4bd6ddf1"
      },
      "execution_count": 54,
      "outputs": [
        {
          "output_type": "stream",
          "name": "stdout",
          "text": [
            "Model: \"model_1\"\n",
            "_________________________________________________________________\n",
            " Layer (type)                Output Shape              Param #   \n",
            "=================================================================\n",
            " input_6 (InputLayer)        [(None, 28, 28)]          0         \n",
            "                                                                 \n",
            " flatten_1 (Flatten)         (None, 784)               0         \n",
            "                                                                 \n",
            " dense_13 (Dense)            (None, 300)               235500    \n",
            "                                                                 \n",
            " dense_14 (Dense)            (None, 100)               30100     \n",
            "                                                                 \n",
            " dense_15 (Dense)            (None, 10)                1010      \n",
            "                                                                 \n",
            "=================================================================\n",
            "Total params: 266,610\n",
            "Trainable params: 266,610\n",
            "Non-trainable params: 0\n",
            "_________________________________________________________________\n"
          ]
        }
      ]
    }
  ]
}